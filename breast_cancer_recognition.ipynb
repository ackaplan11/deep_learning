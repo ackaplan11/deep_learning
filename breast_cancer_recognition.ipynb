{
 "cells": [
  {
   "cell_type": "markdown",
   "metadata": {},
   "source": [
    "Breast Cancer Detector \n",
    "8/11/2019\n",
    "Andrew Kaplan & Daesesob Lim\n",
    "\n",
    "Dataset: https://www.kaggle.com/merishnasuwal/breast-cancer-prediction-dataset\n",
    "\n",
    "Goal: train neural network model to detect breast cancer using 5 parameters \n"
   ]
  },
  {
   "cell_type": "code",
   "execution_count": 1,
   "metadata": {},
   "outputs": [
    {
     "data": {
      "text/html": [
       "<div>\n",
       "<style scoped>\n",
       "    .dataframe tbody tr th:only-of-type {\n",
       "        vertical-align: middle;\n",
       "    }\n",
       "\n",
       "    .dataframe tbody tr th {\n",
       "        vertical-align: top;\n",
       "    }\n",
       "\n",
       "    .dataframe thead th {\n",
       "        text-align: right;\n",
       "    }\n",
       "</style>\n",
       "<table border=\"1\" class=\"dataframe\">\n",
       "  <thead>\n",
       "    <tr style=\"text-align: right;\">\n",
       "      <th></th>\n",
       "      <th>mean_radius</th>\n",
       "      <th>mean_texture</th>\n",
       "      <th>mean_perimeter</th>\n",
       "      <th>mean_area</th>\n",
       "      <th>mean_smoothness</th>\n",
       "      <th>diagnosis</th>\n",
       "    </tr>\n",
       "  </thead>\n",
       "  <tbody>\n",
       "    <tr>\n",
       "      <th>0</th>\n",
       "      <td>17.99</td>\n",
       "      <td>10.38</td>\n",
       "      <td>122.80</td>\n",
       "      <td>1001.0</td>\n",
       "      <td>0.11840</td>\n",
       "      <td>0</td>\n",
       "    </tr>\n",
       "    <tr>\n",
       "      <th>1</th>\n",
       "      <td>20.57</td>\n",
       "      <td>17.77</td>\n",
       "      <td>132.90</td>\n",
       "      <td>1326.0</td>\n",
       "      <td>0.08474</td>\n",
       "      <td>0</td>\n",
       "    </tr>\n",
       "    <tr>\n",
       "      <th>2</th>\n",
       "      <td>19.69</td>\n",
       "      <td>21.25</td>\n",
       "      <td>130.00</td>\n",
       "      <td>1203.0</td>\n",
       "      <td>0.10960</td>\n",
       "      <td>0</td>\n",
       "    </tr>\n",
       "    <tr>\n",
       "      <th>3</th>\n",
       "      <td>11.42</td>\n",
       "      <td>20.38</td>\n",
       "      <td>77.58</td>\n",
       "      <td>386.1</td>\n",
       "      <td>0.14250</td>\n",
       "      <td>0</td>\n",
       "    </tr>\n",
       "    <tr>\n",
       "      <th>4</th>\n",
       "      <td>20.29</td>\n",
       "      <td>14.34</td>\n",
       "      <td>135.10</td>\n",
       "      <td>1297.0</td>\n",
       "      <td>0.10030</td>\n",
       "      <td>0</td>\n",
       "    </tr>\n",
       "  </tbody>\n",
       "</table>\n",
       "</div>"
      ],
      "text/plain": [
       "   mean_radius  mean_texture  mean_perimeter  mean_area  mean_smoothness  \\\n",
       "0        17.99         10.38          122.80     1001.0          0.11840   \n",
       "1        20.57         17.77          132.90     1326.0          0.08474   \n",
       "2        19.69         21.25          130.00     1203.0          0.10960   \n",
       "3        11.42         20.38           77.58      386.1          0.14250   \n",
       "4        20.29         14.34          135.10     1297.0          0.10030   \n",
       "\n",
       "   diagnosis  \n",
       "0          0  \n",
       "1          0  \n",
       "2          0  \n",
       "3          0  \n",
       "4          0  "
      ]
     },
     "execution_count": 1,
     "metadata": {},
     "output_type": "execute_result"
    }
   ],
   "source": [
    "import pandas as pd \n",
    "data = pd.read_csv(\"Breast_cancer_data.csv\")\n",
    "data.head()\n"
   ]
  },
  {
   "cell_type": "code",
   "execution_count": 2,
   "metadata": {},
   "outputs": [],
   "source": [
    "import csv\n",
    "import numpy as np\n",
    "import math "
   ]
  },
  {
   "cell_type": "code",
   "execution_count": 3,
   "metadata": {},
   "outputs": [],
   "source": [
    "# Getting Data\n",
    "\n",
    "with open(\"Breast_cancer_data.csv\", \"r\") as f:\n",
    "    bc_data = list(csv.reader(f, delimiter=';'))\n",
    "  \n",
    "for i in range(len(bc_data)):\n",
    "    bc_data[i] = bc_data[i][0].split(',')\n",
    "    \n",
    "bc_data.pop(0)\n",
    "bc_data = np.array(data, np.float64)\n",
    "\n",
    "train_data = []\n",
    "train_target = []\n",
    "val_data = []\n",
    "val_target =[]\n",
    "test_data = []\n",
    "test_target = []\n",
    "\n",
    "n = math.floor(len(data) *.5 + 1)\n",
    "m = math.floor(len(data) *.25)\n",
    "\n",
    "np.random.shuffle(bc_data)\n",
    "\n",
    "\n",
    "train_data = bc_data[:n,:5]\n",
    "train_target = bc_data[:n,5]\n",
    "val_data = bc_data[n:n+m,:5]\n",
    "val_target = bc_data[n:n+m,5]\n",
    "test_data = bc_data[n+m:,:5]\n",
    "test_target = bc_data[n+m:,5]\n",
    "        \n",
    "\n"
   ]
  },
  {
   "cell_type": "code",
   "execution_count": 4,
   "metadata": {},
   "outputs": [
    {
     "name": "stdout",
     "output_type": "stream",
     "text": [
      "Training data length: 285\n",
      "Validation data length: 142\n",
      "Testing data length: 142\n",
      "Total data length: 569\n"
     ]
    }
   ],
   "source": [
    "print(\"Training data length:\", len(train_data))\n",
    "print(\"Validation data length:\", len(val_data))\n",
    "print(\"Testing data length:\", len(val_data))\n",
    "print(\"Total data length:\", len(bc_data))"
   ]
  },
  {
   "cell_type": "code",
   "execution_count": 5,
   "metadata": {},
   "outputs": [
    {
     "name": "stdout",
     "output_type": "stream",
     "text": [
      "[1.356e+01 1.390e+01 8.859e+01 5.613e+02 1.051e-01]\n"
     ]
    }
   ],
   "source": [
    "data.head(10)\n",
    "print(train_data[0])"
   ]
  },
  {
   "cell_type": "code",
   "execution_count": 6,
   "metadata": {},
   "outputs": [],
   "source": [
    "# Normalziation\n",
    "\n",
    "radius = []\n",
    "texture = []\n",
    "perimeter = []\n",
    "area = []\n",
    "smoothness = []\n",
    "\n",
    "for i in range(len(train_data)):\n",
    "    radius.append(train_data[i][0])\n",
    "    texture.append(train_data[i][1])\n",
    "    perimeter.append(train_data[i][2])\n",
    "    area.append(train_data[i][3])\n",
    "    smoothness.append(train_data[i][4])\n",
    "    \n",
    "rad_mean = np.mean(radius)\n",
    "rad_std = np.std(radius)\n",
    "texture_mean = np.mean(texture)\n",
    "texture_std = np.std(texture)\n",
    "perim_mean = np.mean(perimeter)\n",
    "perim_std = np.std(perimeter)\n",
    "area_mean = np.mean(area)\n",
    "area_std = np.std(area)\n",
    "smooth_mean = np.mean(smoothness)\n",
    "smooth_std = np.std(smoothness)\n",
    "\n",
    "#Training Set\n",
    "\n",
    "train_data[:,0] -= rad_mean #for all rows of column 0, subtract the mean from the original datapoint\n",
    "train_data[:,0] /= rad_std #for all rows of column 0, divide [original datapoint - mean] by standard dev\n",
    "train_data[:,1] -= texture_mean\n",
    "train_data[:,1] /= texture_std\n",
    "train_data[:,2] -= perim_mean\n",
    "train_data[:,2] /= perim_std\n",
    "train_data[:,3] -= area_mean\n",
    "train_data[:,3] /= area_std\n",
    "train_data[:,4] -= smooth_mean\n",
    "train_data[:,4] /= smooth_std\n",
    "\n",
    "#Validation Set\n",
    "\n",
    "val_data[:,0] -= rad_mean \n",
    "val_data[:,0] /= rad_std \n",
    "val_data[:,1] -= texture_mean\n",
    "val_data[:,1] /= texture_std\n",
    "val_data[:,2] -= perim_mean\n",
    "val_data[:,2] /= perim_std\n",
    "val_data[:,3] -= area_mean\n",
    "val_data[:,3] /= area_std\n",
    "val_data[:,4] -= smooth_mean\n",
    "val_data[:,4] /= smooth_std\n",
    "\n",
    "#Testing Set\n",
    "\n",
    "test_data[:,0] -= rad_mean \n",
    "test_data[:,0] /= rad_std \n",
    "test_data[:,1] -= texture_mean\n",
    "test_data[:,1] /= texture_std\n",
    "test_data[:,2] -= perim_mean\n",
    "test_data[:,2] /= perim_std\n",
    "test_data[:,3] -= area_mean\n",
    "test_data[:,3] /= area_std\n",
    "test_data[:,4] -= smooth_mean\n",
    "test_data[:,4] /= smooth_std"
   ]
  },
  {
   "cell_type": "code",
   "execution_count": 7,
   "metadata": {},
   "outputs": [
    {
     "name": "stdout",
     "output_type": "stream",
     "text": [
      "[-0.07407139 -0.55839394 -0.04193439 -0.21294083  0.37490379]\n"
     ]
    }
   ],
   "source": [
    "print(test_data[0])"
   ]
  },
  {
   "cell_type": "code",
   "execution_count": 8,
   "metadata": {},
   "outputs": [
    {
     "name": "stderr",
     "output_type": "stream",
     "text": [
      "Using TensorFlow backend.\n",
      "C:\\Users\\ackap\\Anaconda3\\envs\\tensorflow\\lib\\site-packages\\tensorflow\\python\\framework\\dtypes.py:516: FutureWarning: Passing (type, 1) or '1type' as a synonym of type is deprecated; in a future version of numpy, it will be understood as (type, (1,)) / '(1,)type'.\n",
      "  _np_qint8 = np.dtype([(\"qint8\", np.int8, 1)])\n",
      "C:\\Users\\ackap\\Anaconda3\\envs\\tensorflow\\lib\\site-packages\\tensorflow\\python\\framework\\dtypes.py:517: FutureWarning: Passing (type, 1) or '1type' as a synonym of type is deprecated; in a future version of numpy, it will be understood as (type, (1,)) / '(1,)type'.\n",
      "  _np_quint8 = np.dtype([(\"quint8\", np.uint8, 1)])\n",
      "C:\\Users\\ackap\\Anaconda3\\envs\\tensorflow\\lib\\site-packages\\tensorflow\\python\\framework\\dtypes.py:518: FutureWarning: Passing (type, 1) or '1type' as a synonym of type is deprecated; in a future version of numpy, it will be understood as (type, (1,)) / '(1,)type'.\n",
      "  _np_qint16 = np.dtype([(\"qint16\", np.int16, 1)])\n",
      "C:\\Users\\ackap\\Anaconda3\\envs\\tensorflow\\lib\\site-packages\\tensorflow\\python\\framework\\dtypes.py:519: FutureWarning: Passing (type, 1) or '1type' as a synonym of type is deprecated; in a future version of numpy, it will be understood as (type, (1,)) / '(1,)type'.\n",
      "  _np_quint16 = np.dtype([(\"quint16\", np.uint16, 1)])\n",
      "C:\\Users\\ackap\\Anaconda3\\envs\\tensorflow\\lib\\site-packages\\tensorflow\\python\\framework\\dtypes.py:520: FutureWarning: Passing (type, 1) or '1type' as a synonym of type is deprecated; in a future version of numpy, it will be understood as (type, (1,)) / '(1,)type'.\n",
      "  _np_qint32 = np.dtype([(\"qint32\", np.int32, 1)])\n",
      "C:\\Users\\ackap\\Anaconda3\\envs\\tensorflow\\lib\\site-packages\\tensorflow\\python\\framework\\dtypes.py:525: FutureWarning: Passing (type, 1) or '1type' as a synonym of type is deprecated; in a future version of numpy, it will be understood as (type, (1,)) / '(1,)type'.\n",
      "  np_resource = np.dtype([(\"resource\", np.ubyte, 1)])\n",
      "C:\\Users\\ackap\\Anaconda3\\envs\\tensorflow\\lib\\site-packages\\tensorboard\\compat\\tensorflow_stub\\dtypes.py:541: FutureWarning: Passing (type, 1) or '1type' as a synonym of type is deprecated; in a future version of numpy, it will be understood as (type, (1,)) / '(1,)type'.\n",
      "  _np_qint8 = np.dtype([(\"qint8\", np.int8, 1)])\n",
      "C:\\Users\\ackap\\Anaconda3\\envs\\tensorflow\\lib\\site-packages\\tensorboard\\compat\\tensorflow_stub\\dtypes.py:542: FutureWarning: Passing (type, 1) or '1type' as a synonym of type is deprecated; in a future version of numpy, it will be understood as (type, (1,)) / '(1,)type'.\n",
      "  _np_quint8 = np.dtype([(\"quint8\", np.uint8, 1)])\n",
      "C:\\Users\\ackap\\Anaconda3\\envs\\tensorflow\\lib\\site-packages\\tensorboard\\compat\\tensorflow_stub\\dtypes.py:543: FutureWarning: Passing (type, 1) or '1type' as a synonym of type is deprecated; in a future version of numpy, it will be understood as (type, (1,)) / '(1,)type'.\n",
      "  _np_qint16 = np.dtype([(\"qint16\", np.int16, 1)])\n",
      "C:\\Users\\ackap\\Anaconda3\\envs\\tensorflow\\lib\\site-packages\\tensorboard\\compat\\tensorflow_stub\\dtypes.py:544: FutureWarning: Passing (type, 1) or '1type' as a synonym of type is deprecated; in a future version of numpy, it will be understood as (type, (1,)) / '(1,)type'.\n",
      "  _np_quint16 = np.dtype([(\"quint16\", np.uint16, 1)])\n",
      "C:\\Users\\ackap\\Anaconda3\\envs\\tensorflow\\lib\\site-packages\\tensorboard\\compat\\tensorflow_stub\\dtypes.py:545: FutureWarning: Passing (type, 1) or '1type' as a synonym of type is deprecated; in a future version of numpy, it will be understood as (type, (1,)) / '(1,)type'.\n",
      "  _np_qint32 = np.dtype([(\"qint32\", np.int32, 1)])\n",
      "C:\\Users\\ackap\\Anaconda3\\envs\\tensorflow\\lib\\site-packages\\tensorboard\\compat\\tensorflow_stub\\dtypes.py:550: FutureWarning: Passing (type, 1) or '1type' as a synonym of type is deprecated; in a future version of numpy, it will be understood as (type, (1,)) / '(1,)type'.\n",
      "  np_resource = np.dtype([(\"resource\", np.ubyte, 1)])\n",
      "WARNING: Logging before flag parsing goes to stderr.\n",
      "W0811 11:06:31.150045  1888 deprecation_wrapper.py:119] From C:\\Users\\ackap\\Anaconda3\\envs\\tensorflow\\lib\\site-packages\\keras\\backend\\tensorflow_backend.py:95: The name tf.reset_default_graph is deprecated. Please use tf.compat.v1.reset_default_graph instead.\n",
      "\n",
      "W0811 11:06:31.152040  1888 deprecation_wrapper.py:119] From C:\\Users\\ackap\\Anaconda3\\envs\\tensorflow\\lib\\site-packages\\keras\\backend\\tensorflow_backend.py:98: The name tf.placeholder_with_default is deprecated. Please use tf.compat.v1.placeholder_with_default instead.\n",
      "\n",
      "W0811 11:06:31.178968  1888 deprecation_wrapper.py:119] From C:\\Users\\ackap\\Anaconda3\\envs\\tensorflow\\lib\\site-packages\\keras\\backend\\tensorflow_backend.py:102: The name tf.get_default_graph is deprecated. Please use tf.compat.v1.get_default_graph instead.\n",
      "\n",
      "W0811 11:06:31.181962  1888 deprecation_wrapper.py:119] From C:\\Users\\ackap\\Anaconda3\\envs\\tensorflow\\lib\\site-packages\\keras\\backend\\tensorflow_backend.py:517: The name tf.placeholder is deprecated. Please use tf.compat.v1.placeholder instead.\n",
      "\n",
      "W0811 11:06:31.185950  1888 deprecation_wrapper.py:119] From C:\\Users\\ackap\\Anaconda3\\envs\\tensorflow\\lib\\site-packages\\keras\\backend\\tensorflow_backend.py:4138: The name tf.random_uniform is deprecated. Please use tf.random.uniform instead.\n",
      "\n",
      "W0811 11:06:31.258754  1888 deprecation_wrapper.py:119] From C:\\Users\\ackap\\Anaconda3\\envs\\tensorflow\\lib\\site-packages\\keras\\optimizers.py:790: The name tf.train.Optimizer is deprecated. Please use tf.compat.v1.train.Optimizer instead.\n",
      "\n",
      "W0811 11:06:31.299645  1888 deprecation.py:323] From C:\\Users\\ackap\\Anaconda3\\envs\\tensorflow\\lib\\site-packages\\tensorflow\\python\\ops\\nn_impl.py:180: add_dispatch_support.<locals>.wrapper (from tensorflow.python.ops.array_ops) is deprecated and will be removed in a future version.\n",
      "Instructions for updating:\n",
      "Use tf.where in 2.0, which has the same broadcast rule as np.where\n"
     ]
    },
    {
     "name": "stdout",
     "output_type": "stream",
     "text": [
      "Train on 285 samples, validate on 142 samples\n",
      "Epoch 1/30\n",
      "285/285 [==============================] - 0s 2ms/step - loss: 0.5377 - acc: 0.8912 - val_loss: 0.5033 - val_acc: 0.8944\n",
      "Epoch 2/30\n",
      "285/285 [==============================] - 0s 45us/step - loss: 0.4930 - acc: 0.8947 - val_loss: 0.4597 - val_acc: 0.9225\n",
      "Epoch 3/30\n",
      "285/285 [==============================] - 0s 49us/step - loss: 0.4502 - acc: 0.8947 - val_loss: 0.4199 - val_acc: 0.9155\n",
      "Epoch 4/30\n",
      "285/285 [==============================] - 0s 45us/step - loss: 0.4127 - acc: 0.9053 - val_loss: 0.3847 - val_acc: 0.9155\n",
      "Epoch 5/30\n",
      "285/285 [==============================] - 0s 52us/step - loss: 0.3791 - acc: 0.9053 - val_loss: 0.3534 - val_acc: 0.9155\n",
      "Epoch 6/30\n",
      "285/285 [==============================] - 0s 38us/step - loss: 0.3495 - acc: 0.9088 - val_loss: 0.3254 - val_acc: 0.9155\n",
      "Epoch 7/30\n",
      "285/285 [==============================] - 0s 56us/step - loss: 0.3231 - acc: 0.9053 - val_loss: 0.3007 - val_acc: 0.9225\n",
      "Epoch 8/30\n",
      "285/285 [==============================] - 0s 49us/step - loss: 0.3003 - acc: 0.9123 - val_loss: 0.2792 - val_acc: 0.9225\n",
      "Epoch 9/30\n",
      "285/285 [==============================] - 0s 42us/step - loss: 0.2795 - acc: 0.9158 - val_loss: 0.2611 - val_acc: 0.9225\n",
      "Epoch 10/30\n",
      "285/285 [==============================] - 0s 45us/step - loss: 0.2618 - acc: 0.9158 - val_loss: 0.2459 - val_acc: 0.9225\n",
      "Epoch 11/30\n",
      "285/285 [==============================] - 0s 35us/step - loss: 0.2465 - acc: 0.9193 - val_loss: 0.2330 - val_acc: 0.9225\n",
      "Epoch 12/30\n",
      "285/285 [==============================] - 0s 28us/step - loss: 0.2337 - acc: 0.9193 - val_loss: 0.2219 - val_acc: 0.9225\n",
      "Epoch 13/30\n",
      "285/285 [==============================] - 0s 46us/step - loss: 0.2225 - acc: 0.9228 - val_loss: 0.2127 - val_acc: 0.9225\n",
      "Epoch 14/30\n",
      "285/285 [==============================] - 0s 35us/step - loss: 0.2128 - acc: 0.9263 - val_loss: 0.2052 - val_acc: 0.9296\n",
      "Epoch 15/30\n",
      "285/285 [==============================] - 0s 35us/step - loss: 0.2044 - acc: 0.9263 - val_loss: 0.1990 - val_acc: 0.9366\n",
      "Epoch 16/30\n",
      "285/285 [==============================] - 0s 42us/step - loss: 0.1978 - acc: 0.9298 - val_loss: 0.1939 - val_acc: 0.9366\n",
      "Epoch 17/30\n",
      "285/285 [==============================] - 0s 35us/step - loss: 0.1913 - acc: 0.9333 - val_loss: 0.1898 - val_acc: 0.9366\n",
      "Epoch 18/30\n",
      "285/285 [==============================] - 0s 37us/step - loss: 0.1860 - acc: 0.9333 - val_loss: 0.1864 - val_acc: 0.9366\n",
      "Epoch 19/30\n",
      "285/285 [==============================] - 0s 35us/step - loss: 0.1816 - acc: 0.9333 - val_loss: 0.1838 - val_acc: 0.9366\n",
      "Epoch 20/30\n",
      "285/285 [==============================] - 0s 52us/step - loss: 0.1780 - acc: 0.9333 - val_loss: 0.1824 - val_acc: 0.9296\n",
      "Epoch 21/30\n",
      "285/285 [==============================] - 0s 42us/step - loss: 0.1742 - acc: 0.9298 - val_loss: 0.1813 - val_acc: 0.9366\n",
      "Epoch 22/30\n",
      "285/285 [==============================] - 0s 31us/step - loss: 0.1712 - acc: 0.9333 - val_loss: 0.1802 - val_acc: 0.9366\n",
      "Epoch 23/30\n",
      "285/285 [==============================] - 0s 31us/step - loss: 0.1685 - acc: 0.9298 - val_loss: 0.1794 - val_acc: 0.9437\n",
      "Epoch 24/30\n",
      "285/285 [==============================] - 0s 31us/step - loss: 0.1661 - acc: 0.9333 - val_loss: 0.1788 - val_acc: 0.9437\n",
      "Epoch 25/30\n",
      "285/285 [==============================] - 0s 28us/step - loss: 0.1641 - acc: 0.9333 - val_loss: 0.1785 - val_acc: 0.9437\n",
      "Epoch 26/30\n",
      "285/285 [==============================] - 0s 45us/step - loss: 0.1623 - acc: 0.9333 - val_loss: 0.1787 - val_acc: 0.9437\n",
      "Epoch 27/30\n",
      "285/285 [==============================] - 0s 28us/step - loss: 0.1607 - acc: 0.9368 - val_loss: 0.1793 - val_acc: 0.9437\n",
      "Epoch 28/30\n",
      "285/285 [==============================] - 0s 31us/step - loss: 0.1590 - acc: 0.9404 - val_loss: 0.1801 - val_acc: 0.9366\n",
      "Epoch 29/30\n",
      "285/285 [==============================] - 0s 28us/step - loss: 0.1579 - acc: 0.9404 - val_loss: 0.1807 - val_acc: 0.9366\n",
      "Epoch 30/30\n",
      "285/285 [==============================] - 0s 28us/step - loss: 0.1569 - acc: 0.9404 - val_loss: 0.1813 - val_acc: 0.9366\n"
     ]
    }
   ],
   "source": [
    "import keras\n",
    "from keras import models\n",
    "from keras import layers\n",
    "from keras import optimizers\n",
    "\n",
    "keras.backend.clear_session() #failsafe\n",
    "\n",
    "model = models.Sequential() #basic deep learning model, linear stack of layers\n",
    "model.add(layers.Dense(64, activation = 'relu', input_shape=(5,))) \n",
    "model.add(layers.Dense(64, activation = 'relu'))\n",
    "model.add(layers.Dense(1, activation = 'sigmoid'))\n",
    "\n",
    "model.compile(optimizer='adam',\n",
    "             loss='binary_crossentropy',\n",
    "             metrics = ['accuracy'])\n",
    "\n",
    "model_hist = model.fit(train_data, train_target, epochs = 30, batch_size = 128, validation_data = (val_data, val_target))"
   ]
  },
  {
   "cell_type": "code",
   "execution_count": 10,
   "metadata": {},
   "outputs": [
    {
     "data": {
      "image/png": "[encoded data removed]",
      "text/plain": [
       "<Figure size 432x288 with 1 Axes>"
      ]
     },
     "metadata": {
      "needs_background": "light"
     },
     "output_type": "display_data"
    }
   ],
   "source": [
    "import matplotlib.pyplot as plt\n",
    "\n",
    "model_acc = model_hist.history['acc']\n",
    "model_loss = model_hist.history['loss']\n",
    "model_val_acc = model_hist.history['val_acc']\n",
    "model_val_loss = model_hist.history['val_loss']\n",
    "\n",
    "epochs = range(1, len(model_acc) + 1)\n",
    "# b+ is for \"blue cross\"\n",
    "plt.plot(epochs, model_val_loss, 'b+', label='Val Loss')\n",
    "plt.plot(epochs, model_loss, 'b', label='Loss')\n",
    "plt.xlabel('Epochs')\n",
    "plt.ylabel('Validation loss')\n",
    "plt.legend()\n",
    "\n",
    "plt.show()\n",
    "\n"
   ]
  },
  {
   "cell_type": "code",
   "execution_count": 11,
   "metadata": {},
   "outputs": [
    {
     "name": "stdout",
     "output_type": "stream",
     "text": [
      "142/142 [==============================] - 0s 88us/step\n",
      "Test Loss:  0.12042561897509535\n",
      "Test Accuracy:  0.9577464788732394\n",
      "Number of patients who have breast cancer in test data percentage:  59.154929577464785\n"
     ]
    }
   ],
   "source": [
    "test_loss, test_acc = model.evaluate(test_data, test_target)\n",
    "print(\"Test Loss: \", test_loss)\n",
    "print(\"Test Accuracy: \", test_acc)\n",
    "\n",
    "numBC = 0\n",
    "for i in range(len(test_target)):\n",
    "    if test_target[i] == 1:\n",
    "        numBC += 1\n",
    "BCPer = numBC/len(test_target)\n",
    "print(\"Number of patients who have breast cancer in test data percentage: \", BCPer*100)"
   ]
  }
 ],
 "metadata": {
  "kernelspec": {
   "display_name": "Python 3",
   "language": "python",
   "name": "python3"
  },
  "language_info": {
   "codemirror_mode": {
    "name": "ipython",
    "version": 3
   },
   "file_extension": ".py",
   "mimetype": "text/x-python",
   "name": "python",
   "nbconvert_exporter": "python",
   "pygments_lexer": "ipython3",
   "version": "3.6.9"
  }
 },
 "nbformat": 4,
 "nbformat_minor": 2
}
